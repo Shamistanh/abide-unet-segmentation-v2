{
  "cells": [
    {
      "cell_type": "code",
      "execution_count": null,
      "metadata": {
        "id": "XNEtDREIwj2j"
      },
      "outputs": [],
      "source": [
        "from tensorflow.keras.models import load_model\n",
        "\n",
        "#model loading\n",
        "model = load_model('drive/MyDrive/unet_segmentation_v2.keras')"
      ]
    },
    {
      "cell_type": "code",
      "execution_count": null,
      "metadata": {
        "id": "8keADZUWyCfr"
      },
      "outputs": [],
      "source": [
        "import os\n",
        "import numpy as np\n",
        "import matplotlib.pyplot as plt\n",
        "from tensorflow.keras.preprocessing.image import load_img, img_to_array\n",
        "from tensorflow.keras.utils import to_categorical\n",
        "from tensorflow.keras.models import Sequential\n",
        "from tensorflow.keras.layers import Conv2D, MaxPooling2D, UpSampling2D\n",
        "from tensorflow.keras.callbacks import ModelCheckpoint\n",
        "from sklearn.model_selection import train_test_split"
      ]
    },
    {
      "cell_type": "code",
      "execution_count": 7,
      "metadata": {
        "id": "YPjDQE74yGVd"
      },
      "outputs": [],
      "source": [
        "\n",
        "images_path = '/content/drive/MyDrive/Phd/dataset/main'\n",
        "annotations_path = '/content/drive/MyDrive/Phd/dataset/annotations'\n",
        "\n",
        "input_height, input_width = 256, 256\n",
        "num_classes = 2  # Background and brain\n",
        "\n",
        "image_files = os.listdir(images_path)\n",
        "annotation_files = os.listdir(annotations_path)\n",
        "\n",
        "image_files.sort()\n",
        "annotation_files.sort()\n",
        "\n",
        "images = np.zeros((len(image_files), input_height, input_width, 3), dtype=np.float32)\n",
        "annotations = np.zeros((len(annotation_files), input_height, input_width, 1), dtype=np.float32)\n",
        "\n",
        "for i, (image_file, annotation_file) in enumerate(zip(image_files, annotation_files)):\n",
        "    image_path = os.path.join(images_path, image_file)\n",
        "    annotation_path = os.path.join(annotations_path, annotation_file)\n",
        "\n",
        "    img = load_img(image_path, target_size=(input_height, input_width))\n",
        "    images[i] = img_to_array(img) / 255.0\n",
        "\n",
        "    annotation = load_img(annotation_path, target_size=(input_height, input_width), color_mode='grayscale')\n",
        "    annotations[i] = img_to_array(annotation) / 255.0\n",
        "\n",
        "X_train, X_temp, y_train, y_temp = train_test_split(images, annotations, test_size=0.3, random_state=42)\n",
        "X_val, X_test, y_val, y_test = train_test_split(X_temp, y_temp, test_size=1/3, random_state=42)"
      ]
    },
    {
      "cell_type": "code",
      "source": [
        "predictions = model.predict(X_test)"
      ],
      "metadata": {
        "colab": {
          "base_uri": "https://localhost:8080/"
        },
        "id": "eBIQkZsy0h9t",
        "outputId": "7e58afd5-b43c-4583-8f7a-d8f138006974"
      },
      "execution_count": 8,
      "outputs": [
        {
          "output_type": "stream",
          "name": "stdout",
          "text": [
            "4/4 [==============================] - 198s 46s/step\n"
          ]
        }
      ]
    },
    {
      "cell_type": "code",
      "source": [
        "threshold = 0.5  # Adjust this threshold based on your model's output\n",
        "binary_predictions = (predictions > threshold).astype(np.uint8)\n",
        "y_true_flat = y_test.flatten()\n",
        "y_pred_flat = binary_predictions.flatten()\n"
      ],
      "metadata": {
        "id": "ldtsSEUh3mfG"
      },
      "execution_count": 9,
      "outputs": []
    },
    {
      "cell_type": "code",
      "source": [
        "from sklearn.metrics import confusion_matrix\n",
        "\n",
        "confusion_mat = confusion_matrix(y_true_flat, y_pred_flat)\n",
        "print(confusion_mat)\n",
        "\n"
      ],
      "metadata": {
        "colab": {
          "base_uri": "https://localhost:8080/"
        },
        "id": "__MWWDIf32qd",
        "outputId": "f05052c8-a7f8-4e8b-ea4c-0efdbea6ebfe"
      },
      "execution_count": 10,
      "outputs": [
        {
          "output_type": "stream",
          "name": "stdout",
          "text": [
            "[[7142515    2118]\n",
            " [   3656   60671]]\n"
          ]
        }
      ]
    },
    {
      "cell_type": "code",
      "source": [
        "import matplotlib.pyplot as plt\n",
        "from sklearn.metrics import confusion_matrix\n",
        "import seaborn as sns\n",
        "import numpy as np\n",
        "\n",
        "# Assuming y_true_flat and y_pred_flat are your flattened true and predicted binary masks\n",
        "confusion_mat = confusion_matrix(y_true_flat, y_pred_flat)\n",
        "\n",
        "# Plotting the confusion matrix using seaborn\n",
        "plt.figure(figsize=(8, 6))\n",
        "sns.heatmap(confusion_mat, annot=True, fmt='d', cmap='Blues',\n",
        "            xticklabels=['Background', 'Foreground'],\n",
        "            yticklabels=['Background', 'Foreground'])\n",
        "plt.title('Confusion Matrix')\n",
        "plt.xlabel('Predicted Labels')\n",
        "plt.ylabel('True Labels')\n",
        "plt.show()\n",
        "\n"
      ],
      "metadata": {
        "colab": {
          "base_uri": "https://localhost:8080/",
          "height": 564
        },
        "id": "ao4NTb3m380c",
        "outputId": "3275ed1a-7010-469c-dcb1-6bedda8cd168"
      },
      "execution_count": 12,
      "outputs": [
        {
          "output_type": "display_data",
          "data": {
            "text/plain": [
              "<Figure size 800x600 with 2 Axes>"
            ],
            "image/png": "[encoded data removed]"
          },
          "metadata": {}
        }
      ]
    },
    {
      "cell_type": "code",
      "source": [
        "from sklearn.metrics import classification_report\n",
        "\n",
        "print(classification_report(y_true_flat, y_pred_flat, target_names=['Background', 'Foreground']))\n"
      ],
      "metadata": {
        "colab": {
          "base_uri": "https://localhost:8080/"
        },
        "id": "mXnVGRBS4nIH",
        "outputId": "ff9931c9-c0db-4e46-b61d-4ed9c337cb30"
      },
      "execution_count": 13,
      "outputs": [
        {
          "output_type": "stream",
          "name": "stdout",
          "text": [
            "              precision    recall  f1-score   support\n",
            "\n",
            "  Background       1.00      1.00      1.00   7144633\n",
            "  Foreground       0.97      0.94      0.95     64327\n",
            "\n",
            "    accuracy                           1.00   7208960\n",
            "   macro avg       0.98      0.97      0.98   7208960\n",
            "weighted avg       1.00      1.00      1.00   7208960\n",
            "\n"
          ]
        }
      ]
    },
    {
      "cell_type": "code",
      "source": [
        "!pip install medpy\n",
        "\n",
        "from medpy.metric.binary import hd95\n",
        "import numpy as np\n",
        "\n",
        "hd_95 = hd95(y_true_flat, y_pred_flat)\n",
        "\n",
        "print(f'Hausdorff Distance 95 (HD95): {hd_95:.4f}')\n"
      ],
      "metadata": {
        "colab": {
          "base_uri": "https://localhost:8080/"
        },
        "id": "MHWQ7by9Iu1-",
        "outputId": "a851f5ff-dd29-493b-a706-dd03b7717fd4"
      },
      "execution_count": 15,
      "outputs": [
        {
          "output_type": "stream",
          "name": "stdout",
          "text": [
            "Collecting medpy\n",
            "  Downloading MedPy-0.4.0.tar.gz (151 kB)\n",
            "\u001b[2K     \u001b[90m━━━━━━━━━━━━━━━━━━━━━━━━━━━━━━━━━━━━━━━━\u001b[0m \u001b[32m151.8/151.8 kB\u001b[0m \u001b[31m1.3 MB/s\u001b[0m eta \u001b[36m0:00:00\u001b[0m\n",
            "\u001b[?25h  Preparing metadata (setup.py) ... \u001b[?25l\u001b[?25hdone\n",
            "Requirement already satisfied: scipy>=1.1.0 in /usr/local/lib/python3.10/dist-packages (from medpy) (1.11.4)\n",
            "Requirement already satisfied: numpy>=1.11.0 in /usr/local/lib/python3.10/dist-packages (from medpy) (1.23.5)\n",
            "Collecting SimpleITK>=1.1.0 (from medpy)\n",
            "  Downloading SimpleITK-2.3.1-cp310-cp310-manylinux_2_17_x86_64.manylinux2014_x86_64.whl (52.7 MB)\n",
            "\u001b[2K     \u001b[90m━━━━━━━━━━━━━━━━━━━━━━━━━━━━━━━━━━━━━━━━\u001b[0m \u001b[32m52.7/52.7 MB\u001b[0m \u001b[31m9.5 MB/s\u001b[0m eta \u001b[36m0:00:00\u001b[0m\n",
            "\u001b[?25hBuilding wheels for collected packages: medpy\n",
            "  Building wheel for medpy (setup.py) ... \u001b[?25l\u001b[?25hdone\n",
            "  Created wheel for medpy: filename=MedPy-0.4.0-py3-none-any.whl size=214949 sha256=87b79a5ecd7eccf822354c3cf4e9590533c37cecae0d4716d686c9e97bd29b5b\n",
            "  Stored in directory: /root/.cache/pip/wheels/d4/32/c7/6380ab2edb8cca018d39a0f1d43250fd9791922c963117de46\n",
            "Successfully built medpy\n",
            "Installing collected packages: SimpleITK, medpy\n",
            "Successfully installed SimpleITK-2.3.1 medpy-0.4.0\n",
            "Hausdorff Distance 95 (HD95): 3.0000\n"
          ]
        }
      ]
    },
    {
      "cell_type": "code",
      "source": [
        "from sklearn.metrics import jaccard_score\n",
        "\n",
        "voe = 1 - jaccard_score(y_true_flat, y_pred_flat)\n",
        "\n",
        "print(f'Volume Overlap Error (VOE): {voe:.4f}')\n"
      ],
      "metadata": {
        "colab": {
          "base_uri": "https://localhost:8080/"
        },
        "id": "y2rzsYMvJW4R",
        "outputId": "a2d97268-01e8-4f97-b787-2e785ac3149a"
      },
      "execution_count": 16,
      "outputs": [
        {
          "output_type": "stream",
          "name": "stdout",
          "text": [
            "Volume Overlap Error (VOE): 0.0869\n"
          ]
        }
      ]
    },
    {
      "cell_type": "code",
      "source": [
        "from sklearn.metrics import f1_score\n",
        "\n",
        "dice_coefficient = f1_score(y_true_flat, y_pred_flat)\n",
        "\n",
        "print(f'Dice Coefficient: {dice_coefficient:.4f}')\n"
      ],
      "metadata": {
        "colab": {
          "base_uri": "https://localhost:8080/"
        },
        "id": "1jqpUB2uJ1jO",
        "outputId": "a0b4ae24-020e-49e6-eea7-106e2ba27cf9"
      },
      "execution_count": 17,
      "outputs": [
        {
          "output_type": "stream",
          "name": "stdout",
          "text": [
            "Dice Coefficient: 0.9546\n"
          ]
        }
      ]
    }
  ],
  "metadata": {
    "colab": {
      "provenance": []
    },
    "kernelspec": {
      "display_name": "Python 3",
      "name": "python3"
    },
    "language_info": {
      "name": "python"
    }
  },
  "nbformat": 4,
  "nbformat_minor": 0
}